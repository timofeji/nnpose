{
 "cells": [
  {
   "cell_type": "markdown",
   "id": "d41c987f",
   "metadata": {},
   "source": [
    "# Papers to research:\n",
    "mark read papers with \"✅\"\n",
    "\n",
    "\n",
    "## Locomotion:\n",
    "https://theorangeduck.com/media/uploads/other_stuff/phasefunction.pdf\n",
    "\n",
    "https://arxiv.org/pdf/2404.19264\n",
    "\n",
    "## IK/Pose-Editing\n",
    "https://arxiv.org/pdf/2106.01981\n",
    "\n",
    "https://assets.studios.disneyresearch.com/app/uploads/2023/11/Pose-and-Skeleton-aware-Neural-IK-for-Pose-and-Motion-Editing-Paper.pdf"
   ]
  }
 ],
 "metadata": {
  "kernelspec": {
   "display_name": "Python 3",
   "language": "python",
   "name": "python3"
  },
  "language_info": {
   "codemirror_mode": {
    "name": "ipython",
    "version": 3
   },
   "file_extension": ".py",
   "mimetype": "text/x-python",
   "name": "python",
   "nbconvert_exporter": "python",
   "pygments_lexer": "ipython3",
   "version": "3.11.9"
  }
 },
 "nbformat": 4,
 "nbformat_minor": 5
}
