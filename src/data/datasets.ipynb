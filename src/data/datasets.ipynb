{
 "cells": [
  {
   "cell_type": "markdown",
   "id": "ce85d559",
   "metadata": {},
   "source": [
    "# This notebooks is used to download and attribute used datasets: \n",
    "\n",
    "## Lafan1:\n",
    "https://theorangeduck.com/media/uploads/Geno/lafan1-resolved/fbx.zip\n",
    "\n",
    "## MiniMixamo\n",
    "https://github.com/Unity-Technologies/Labs/blob/main/Projects/ProtoRes/code/data/deeppose_paper2021_minimixamo.zip\n",
    "\n",
    "## MiniUnity\n",
    "https://github.com/Unity-Technologies/Labs/blob/main/Projects/ProtoRes/code/data/deeppose_paper2021_miniunity.zip"
   ]
  },
  {
   "cell_type": "code",
   "execution_count": 4,
   "id": "e73d0604",
   "metadata": {},
   "outputs": [
    {
     "name": "stdout",
     "output_type": "stream",
     "text": [
      "\n",
      "Downloading Lafan1 from: https://theorangeduck.com/media/uploads/Geno/lafan1-resolved/fbx.zip\n",
      "Successfully downloaded to Lafan1.zip\n",
      "Extracted into Lafan1/\n",
      "Removed Lafan1.zip\n",
      "\n",
      "Downloading MiniUnity from: https://github.com/Unity-Technologies/Labs/raw/main/Projects/ProtoRes/code/data/deeppose_paper2021_miniunity.zip\n",
      "Successfully downloaded to MiniUnity.zip\n",
      "Extracted into MiniUnity/\n",
      "Removed MiniUnity.zip\n",
      "\n",
      "Downloading MiniMixamo from: https://github.com/Unity-Technologies/Labs/raw/main/Projects/ProtoRes/code/data/deeppose_paper2021_minimixamo.zip\n",
      "Successfully downloaded to MiniMixamo.zip\n",
      "Extracted into MiniMixamo/\n",
      "Removed MiniMixamo.zip\n"
     ]
    }
   ],
   "source": [
    "import os\n",
    "import requests\n",
    "import zipfile\n",
    "\n",
    "urls = {\n",
    "    'Lafan1': 'https://theorangeduck.com/media/uploads/Geno/lafan1-resolved/fbx.zip',\n",
    "    'MiniUnity': 'https://github.com/Unity-Technologies/Labs/raw/main/Projects/ProtoRes/code/data/deeppose_paper2021_miniunity.zip',\n",
    "    'MiniMixamo': 'https://github.com/Unity-Technologies/Labs/raw/main/Projects/ProtoRes/code/data/deeppose_paper2021_minimixamo.zip',\n",
    "}\n",
    "\n",
    "def download_and_extract(url, extract_to):\n",
    "    local_zip_path = f'{extract_to}.zip'\n",
    "    \n",
    "    os.makedirs(extract_to, exist_ok=True)\n",
    "    print(f'\\nDownloading {extract_to} from: {url}')\n",
    "    \n",
    "    response = requests.get(url, stream=True)\n",
    "    try:\n",
    "        response.raise_for_status()\n",
    "    except requests.HTTPError as e:\n",
    "        print(f'Error downloading {extract_to}: {e}')\n",
    "        return\n",
    "    \n",
    "    with open(local_zip_path, 'wb') as f:\n",
    "        for chunk in response.iter_content(chunk_size=8192):\n",
    "            if chunk:\n",
    "                f.write(chunk)\n",
    "    print(f'Successfully downloaded to {local_zip_path}')\n",
    "    \n",
    "    try:\n",
    "        with zipfile.ZipFile(local_zip_path, 'r') as zip_ref:\n",
    "            zip_ref.extractall(extract_to)\n",
    "        print(f'Extracted into {extract_to}/')\n",
    "    except zipfile.BadZipFile:\n",
    "        print(f'Error: {local_zip_path} is not a valid ZIP file.')\n",
    "    finally:\n",
    "        if os.path.exists(local_zip_path):\n",
    "            os.remove(local_zip_path)\n",
    "            print(f'Removed {local_zip_path}')\n",
    "\n",
    "if __name__ == '__main__':\n",
    "    for folder, url in urls.items():\n",
    "        download_and_extract(url, folder)"
   ]
  }
 ],
 "metadata": {
  "kernelspec": {
   "display_name": "Python 3",
   "language": "python",
   "name": "python3"
  },
  "language_info": {
   "codemirror_mode": {
    "name": "ipython",
    "version": 3
   },
   "file_extension": ".py",
   "mimetype": "text/x-python",
   "name": "python",
   "nbconvert_exporter": "python",
   "pygments_lexer": "ipython3",
   "version": "3.11.9"
  }
 },
 "nbformat": 4,
 "nbformat_minor": 5
}
